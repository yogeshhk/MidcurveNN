{
  "nbformat": 4,
  "nbformat_minor": 0,
  "metadata": {
    "colab": {
      "name": "midcurvenn.ipynb",
      "provenance": [],
      "collapsed_sections": []
    },
    "kernelspec": {
      "name": "python3",
      "display_name": "Python 3"
    },
    "accelerator": "GPU"
  },
  "cells": [
    {
      "cell_type": "code",
      "metadata": {
        "id": "c3lae1rXzTba",
        "colab_type": "code",
        "colab": {}
      },
      "source": [
        "!git clone https://github.com/yogeshhk/MidcurveNN.git\n",
        "!mkdir midcurve_data\n",
        "!cp -r /content/MidcurveNN/data /content/midcurve_data"
      ],
      "execution_count": 0,
      "outputs": []
    },
    {
      "cell_type": "code",
      "metadata": {
        "id": "ERFo_Q_lNjxg",
        "colab_type": "code",
        "colab": {}
      },
      "source": [
        "%reload_ext autoreload\n",
        "%autoreload 2\n",
        "%reload_ext google.colab.data_table\n",
        "%matplotlib inline"
      ],
      "execution_count": 0,
      "outputs": []
    },
    {
      "cell_type": "code",
      "metadata": {
        "id": "P8Y3ef1x_mEB",
        "colab_type": "code",
        "outputId": "34bb337f-d169-4404-a2b7-5cf116ee34fe",
        "colab": {
          "base_uri": "https://localhost:8080/",
          "height": 343
        }
      },
      "source": [
        "import numpy as np\n",
        "import pandas as pd\n",
        "import matplotlib.pyplot as plt\n",
        "import warnings\n",
        "import cv2\n",
        "import PIL\n",
        "from PIL import Image\n",
        "warnings.filterwarnings(action='ignore')\n",
        "import torch\n",
        "from torch.utils.data import Dataset,DataLoader\n",
        "import torch.nn as nn\n",
        "import torch.nn as optim\n",
        "from torchvision import transforms\n",
        "from fastai.vision import *\n",
        "!pip install albumentations\n",
        "from albumentations import (\n",
        "    HorizontalFlip, RandomContrast, RandomGamma, RandomBrightness, ElasticTransform, Flip, Transpose,IAAAdditiveGaussianNoise,\n",
        "    GridDistortion,  OpticalDistortion, ShiftScaleRotate, Resize,RandomRotate90, GaussNoise ,MotionBlur, MedianBlur, Blur, \n",
        "    IAAPiecewiseAffine,IAASharpen, IAAEmboss, CLAHE, Compose, OneOf, \n",
        ")\n",
        "# !pip install tensorboardcolab\n",
        "# from tensorboardcolab import TensorBoardColab\n",
        "# tb = TensorBoardColab()\n",
        "from sklearn.model_selection import StratifiedKFold"
      ],
      "execution_count": 0,
      "outputs": [
        {
          "output_type": "stream",
          "text": [
            "Requirement already satisfied: albumentations in /usr/local/lib/python3.6/dist-packages (0.1.12)\n",
            "Requirement already satisfied: scipy in /usr/local/lib/python3.6/dist-packages (from albumentations) (1.4.1)\n",
            "Requirement already satisfied: numpy>=1.11.1 in /usr/local/lib/python3.6/dist-packages (from albumentations) (1.17.5)\n",
            "Requirement already satisfied: imgaug<0.2.7,>=0.2.5 in /usr/local/lib/python3.6/dist-packages (from albumentations) (0.2.6)\n",
            "Requirement already satisfied: opencv-python in /usr/local/lib/python3.6/dist-packages (from albumentations) (4.1.2.30)\n",
            "Requirement already satisfied: six in /usr/local/lib/python3.6/dist-packages (from imgaug<0.2.7,>=0.2.5->albumentations) (1.12.0)\n",
            "Requirement already satisfied: scikit-image>=0.11.0 in /usr/local/lib/python3.6/dist-packages (from imgaug<0.2.7,>=0.2.5->albumentations) (0.16.2)\n",
            "Requirement already satisfied: pillow>=4.3.0 in /usr/local/lib/python3.6/dist-packages (from scikit-image>=0.11.0->imgaug<0.2.7,>=0.2.5->albumentations) (6.2.2)\n",
            "Requirement already satisfied: PyWavelets>=0.4.0 in /usr/local/lib/python3.6/dist-packages (from scikit-image>=0.11.0->imgaug<0.2.7,>=0.2.5->albumentations) (1.1.1)\n",
            "Requirement already satisfied: imageio>=2.3.0 in /usr/local/lib/python3.6/dist-packages (from scikit-image>=0.11.0->imgaug<0.2.7,>=0.2.5->albumentations) (2.4.1)\n",
            "Requirement already satisfied: matplotlib!=3.0.0,>=2.0.0 in /usr/local/lib/python3.6/dist-packages (from scikit-image>=0.11.0->imgaug<0.2.7,>=0.2.5->albumentations) (3.1.3)\n",
            "Requirement already satisfied: networkx>=2.0 in /usr/local/lib/python3.6/dist-packages (from scikit-image>=0.11.0->imgaug<0.2.7,>=0.2.5->albumentations) (2.4)\n",
            "Requirement already satisfied: cycler>=0.10 in /usr/local/lib/python3.6/dist-packages (from matplotlib!=3.0.0,>=2.0.0->scikit-image>=0.11.0->imgaug<0.2.7,>=0.2.5->albumentations) (0.10.0)\n",
            "Requirement already satisfied: pyparsing!=2.0.4,!=2.1.2,!=2.1.6,>=2.0.1 in /usr/local/lib/python3.6/dist-packages (from matplotlib!=3.0.0,>=2.0.0->scikit-image>=0.11.0->imgaug<0.2.7,>=0.2.5->albumentations) (2.4.6)\n",
            "Requirement already satisfied: kiwisolver>=1.0.1 in /usr/local/lib/python3.6/dist-packages (from matplotlib!=3.0.0,>=2.0.0->scikit-image>=0.11.0->imgaug<0.2.7,>=0.2.5->albumentations) (1.1.0)\n",
            "Requirement already satisfied: python-dateutil>=2.1 in /usr/local/lib/python3.6/dist-packages (from matplotlib!=3.0.0,>=2.0.0->scikit-image>=0.11.0->imgaug<0.2.7,>=0.2.5->albumentations) (2.6.1)\n",
            "Requirement already satisfied: decorator>=4.3.0 in /usr/local/lib/python3.6/dist-packages (from networkx>=2.0->scikit-image>=0.11.0->imgaug<0.2.7,>=0.2.5->albumentations) (4.4.1)\n",
            "Requirement already satisfied: setuptools in /usr/local/lib/python3.6/dist-packages (from kiwisolver>=1.0.1->matplotlib!=3.0.0,>=2.0.0->scikit-image>=0.11.0->imgaug<0.2.7,>=0.2.5->albumentations) (45.1.0)\n"
          ],
          "name": "stdout"
        }
      ]
    },
    {
      "cell_type": "code",
      "metadata": {
        "id": "1cUSJbv3ApkZ",
        "colab_type": "code",
        "colab": {}
      },
      "source": [
        "def read_input_image_pairs(datafolder):\n",
        "    profile_pngs = []\n",
        "    midcurve_pngs = []\n",
        "    for file in os.listdir(datafolder):\n",
        "        fullpath = os.path.join(datafolder, file)\n",
        "        if os.path.isdir(fullpath):\n",
        "            continue\n",
        "        if file.endswith(\".png\"):\n",
        "            if file.find(\"Profile\") != -1:\n",
        "                profile_pngs.append(fullpath)\n",
        "            if file.find(\"Midcurve\") != -1:\n",
        "                midcurve_pngs.append(fullpath)\n",
        "    profile_pngs = sorted(profile_pngs)\n",
        "    midcurve_pngs = sorted(midcurve_pngs)\n",
        "    return profile_pngs,midcurve_pngs"
      ],
      "execution_count": 0,
      "outputs": []
    },
    {
      "cell_type": "code",
      "metadata": {
        "id": "pbVnTebsBH4y",
        "colab_type": "code",
        "colab": {}
      },
      "source": [
        "input_data_folder = '/content/midcurve_data/data/input'"
      ],
      "execution_count": 0,
      "outputs": []
    },
    {
      "cell_type": "code",
      "metadata": {
        "id": "vWrXNwfBBDs3",
        "colab_type": "code",
        "outputId": "f1979f89-afb3-48b2-dd31-34209d1b5acb",
        "colab": {
          "base_uri": "https://localhost:8080/",
          "height": 34
        }
      },
      "source": [
        "profile_pngs,midcurve_pngs = read_input_image_pairs(input_data_folder)\n",
        "len(profile_pngs) == len(midcurve_pngs)"
      ],
      "execution_count": 0,
      "outputs": [
        {
          "output_type": "execute_result",
          "data": {
            "text/plain": [
              "True"
            ]
          },
          "metadata": {
            "tags": []
          },
          "execution_count": 53
        }
      ]
    },
    {
      "cell_type": "code",
      "metadata": {
        "id": "qp3zNkPhyHhY",
        "colab_type": "code",
        "colab": {}
      },
      "source": [
        "classes = [''.join(i.split('/')[-1].split('_')[0]) for i in profile_pngs]"
      ],
      "execution_count": 0,
      "outputs": []
    },
    {
      "cell_type": "code",
      "metadata": {
        "id": "n73Pd0_OBNEO",
        "colab_type": "code",
        "colab": {}
      },
      "source": [
        "df = pd.DataFrame(index = range(len(profile_pngs)) , columns = ['profile_path', 'midcurve_path','classes'])"
      ],
      "execution_count": 0,
      "outputs": []
    },
    {
      "cell_type": "code",
      "metadata": {
        "id": "deN2mbtpOiVd",
        "colab_type": "code",
        "outputId": "338ad5ee-c088-484d-ac64-54bcdbc7a188",
        "colab": {
          "base_uri": "https://localhost:8080/",
          "height": 197
        }
      },
      "source": [
        "df['profile_path'] = profile_pngs\n",
        "df['midcurve_path'] = midcurve_pngs\n",
        "df['classes'] = classes\n",
        "df.head()"
      ],
      "execution_count": 0,
      "outputs": [
        {
          "output_type": "execute_result",
          "data": {
            "application/vnd.google.colaboratory.module+javascript": "\n      import \"https://ssl.gstatic.com/colaboratory/data_table/84ef27dae82052e3/data_table.js\";\n\n      window.createDataTable({\n        data: [[{\n            'v': 0,\n            'f': \"0\",\n        },\n\"/content/midcurve_data/data/input/I_Profile.png\",\n\"/content/midcurve_data/data/input/I_Midcurve.png\",\n\"I\"],\n [{\n            'v': 1,\n            'f': \"1\",\n        },\n\"/content/midcurve_data/data/input/I_Profile_mirrored_0.png\",\n\"/content/midcurve_data/data/input/I_Midcurve_mirrored_0.png\",\n\"I\"],\n [{\n            'v': 2,\n            'f': \"2\",\n        },\n\"/content/midcurve_data/data/input/I_Profile_mirrored_0_rotated_120.png\",\n\"/content/midcurve_data/data/input/I_Midcurve_mirrored_0_rotated_120.png\",\n\"I\"],\n [{\n            'v': 3,\n            'f': \"3\",\n        },\n\"/content/midcurve_data/data/input/I_Profile_mirrored_0_rotated_150.png\",\n\"/content/midcurve_data/data/input/I_Midcurve_mirrored_0_rotated_150.png\",\n\"I\"],\n [{\n            'v': 4,\n            'f': \"4\",\n        },\n\"/content/midcurve_data/data/input/I_Profile_mirrored_0_rotated_180.png\",\n\"/content/midcurve_data/data/input/I_Midcurve_mirrored_0_rotated_180.png\",\n\"I\"]],\n        columns: [[\"number\", \"index\"], [\"string\", \"profile_path\"], [\"string\", \"midcurve_path\"], [\"string\", \"classes\"]],\n        columnOptions: [{\"width\": \"1px\", \"className\": \"index_column\"}],\n        rowsPerPage: 25,\n        helpUrl: \"https://colab.research.google.com/notebooks/data_table.ipynb\",\n        suppressOutputScrolling: true,\n      });\n    ",
            "text/html": [
              "<div>\n",
              "<style scoped>\n",
              "    .dataframe tbody tr th:only-of-type {\n",
              "        vertical-align: middle;\n",
              "    }\n",
              "\n",
              "    .dataframe tbody tr th {\n",
              "        vertical-align: top;\n",
              "    }\n",
              "\n",
              "    .dataframe thead th {\n",
              "        text-align: right;\n",
              "    }\n",
              "</style>\n",
              "<table border=\"1\" class=\"dataframe\">\n",
              "  <thead>\n",
              "    <tr style=\"text-align: right;\">\n",
              "      <th></th>\n",
              "      <th>profile_path</th>\n",
              "      <th>midcurve_path</th>\n",
              "      <th>classes</th>\n",
              "    </tr>\n",
              "  </thead>\n",
              "  <tbody>\n",
              "    <tr>\n",
              "      <th>0</th>\n",
              "      <td>/content/midcurve_data/data/input/I_Profile.png</td>\n",
              "      <td>/content/midcurve_data/data/input/I_Midcurve.png</td>\n",
              "      <td>I</td>\n",
              "    </tr>\n",
              "    <tr>\n",
              "      <th>1</th>\n",
              "      <td>/content/midcurve_data/data/input/I_Profile_mi...</td>\n",
              "      <td>/content/midcurve_data/data/input/I_Midcurve_m...</td>\n",
              "      <td>I</td>\n",
              "    </tr>\n",
              "    <tr>\n",
              "      <th>2</th>\n",
              "      <td>/content/midcurve_data/data/input/I_Profile_mi...</td>\n",
              "      <td>/content/midcurve_data/data/input/I_Midcurve_m...</td>\n",
              "      <td>I</td>\n",
              "    </tr>\n",
              "    <tr>\n",
              "      <th>3</th>\n",
              "      <td>/content/midcurve_data/data/input/I_Profile_mi...</td>\n",
              "      <td>/content/midcurve_data/data/input/I_Midcurve_m...</td>\n",
              "      <td>I</td>\n",
              "    </tr>\n",
              "    <tr>\n",
              "      <th>4</th>\n",
              "      <td>/content/midcurve_data/data/input/I_Profile_mi...</td>\n",
              "      <td>/content/midcurve_data/data/input/I_Midcurve_m...</td>\n",
              "      <td>I</td>\n",
              "    </tr>\n",
              "  </tbody>\n",
              "</table>\n",
              "</div>"
            ],
            "text/plain": [
              "                                        profile_path  ... classes\n",
              "0    /content/midcurve_data/data/input/I_Profile.png  ...       I\n",
              "1  /content/midcurve_data/data/input/I_Profile_mi...  ...       I\n",
              "2  /content/midcurve_data/data/input/I_Profile_mi...  ...       I\n",
              "3  /content/midcurve_data/data/input/I_Profile_mi...  ...       I\n",
              "4  /content/midcurve_data/data/input/I_Profile_mi...  ...       I\n",
              "\n",
              "[5 rows x 3 columns]"
            ]
          },
          "metadata": {
            "tags": []
          },
          "execution_count": 70
        }
      ]
    },
    {
      "cell_type": "code",
      "metadata": {
        "id": "2iJYqPCQP3Nm",
        "colab_type": "code",
        "colab": {}
      },
      "source": [
        "fnames = {key: value for key,value in enumerate(profile_pngs)}"
      ],
      "execution_count": 0,
      "outputs": []
    },
    {
      "cell_type": "code",
      "metadata": {
        "id": "E6CsRIb0PSpK",
        "colab_type": "code",
        "colab": {}
      },
      "source": [
        "class midcurvedataset(torch.utils.data.Dataset):\n",
        "  '''An abstract class representing a Dataset'''\n",
        "  def __init__(self, df, fname, transforms):\n",
        "    '''\n",
        "    intial process like reading csv file, assigning transforms\n",
        "    '''\n",
        "    self.df = df\n",
        "    self.fnames = fnames\n",
        "    self.transforms = transforms\n",
        "    self.gb = self.df.groupby('profile_path')\n",
        "\n",
        "  def __len__(self):\n",
        "    '''\n",
        "    returns size of input data\n",
        "    '''\n",
        "    return len(self.fnames)\n",
        "\n",
        "  def __getitem__(self, id):\n",
        "    '''\n",
        "    return data and label at any index \n",
        "    '''\n",
        "    image_id = self.fnames[id]\n",
        "    df = self.gb.get_group(image_id)\n",
        "    \n",
        "    img_path = df['profile_path'].values[0]\n",
        "    #print(img_path)\n",
        "\n",
        "    image = PIL.Image.open(img_path).convert('RGBA')\n",
        "    image = np.array(image)\n",
        "    i_w, i_h, i_c = image.shape\n",
        "    image = image[:,:,3]\n",
        "\n",
        "\n",
        "    mask_path = df['midcurve_path'].values[0]\n",
        "    #print(mask_path)\n",
        "    \n",
        "    mask = PIL.Image.open(mask_path).convert('RGBA')\n",
        "    mask = np.array(mask)\n",
        "    m_w, m_h, m_c = mask.shape\n",
        "    mask = mask[:,:,3]\n",
        "\n",
        "    \n",
        "    augumentation = self.transforms(p=0.3)\n",
        "    data = {'image': image, 'mask': mask}\n",
        "    augumented = augumentation(**data)\n",
        "    image = augumented['image']\n",
        "    mask = augumented['mask']                \n",
        "    return image, mask \n",
        "\n",
        "def aug_all(p=1):\n",
        "    return Compose([\n",
        "        RandomRotate90(),\n",
        "        Flip(),\n",
        "        Transpose(),\n",
        "        OneOf([\n",
        "            IAAAdditiveGaussianNoise(),\n",
        "            GaussNoise(),\n",
        "        ], p=0.2),\n",
        "        OneOf([\n",
        "            MotionBlur(p=.2),\n",
        "            MedianBlur(blur_limit=3, p=.1),\n",
        "            Blur(blur_limit=3, p=.1),\n",
        "        ], p=0.2),\n",
        "        ShiftScaleRotate(shift_limit=0.0625, scale_limit=0.2, rotate_limit=45, p=.2),\n",
        "        OneOf([\n",
        "            OpticalDistortion(p=0.3),\n",
        "            GridDistortion(p=.1),\n",
        "            IAAPiecewiseAffine(p=0.3),\n",
        "        ], p=0.2),\n",
        "        OneOf([\n",
        "            CLAHE(clip_limit=2),\n",
        "            IAASharpen(),\n",
        "            IAAEmboss(),\n",
        "            RandomContrast(),\n",
        "            RandomBrightness(),\n",
        "        ], p=0.3),\n",
        "        #HueSaturationValue(p=0.3),\n",
        "    ], p=p)"
      ],
      "execution_count": 0,
      "outputs": []
    },
    {
      "cell_type": "code",
      "metadata": {
        "id": "a-Yni85RRikp",
        "colab_type": "code",
        "colab": {}
      },
      "source": [
        "dataset = midcurvedataset(df,fnames,aug_all)"
      ],
      "execution_count": 0,
      "outputs": []
    },
    {
      "cell_type": "code",
      "metadata": {
        "id": "ur0z3u4_S3s8",
        "colab_type": "code",
        "colab": {}
      },
      "source": [
        "image, mask = dataset[np.random.randint(0,len(profile_pngs))]"
      ],
      "execution_count": 0,
      "outputs": []
    },
    {
      "cell_type": "code",
      "metadata": {
        "id": "S9qrcyE1S_f3",
        "colab_type": "code",
        "colab": {}
      },
      "source": [
        "def plotter(img, mask):\n",
        "  fig, ax = plt.subplots(1,2)   \n",
        "  # img = transforms.ToPILImage()(img)\n",
        "  # mask = transforms.ToPILImage()(mask)\n",
        "  ax[0].imshow(img)\n",
        "  ax[1].imshow(mask)\n",
        "  plt.show()"
      ],
      "execution_count": 0,
      "outputs": []
    },
    {
      "cell_type": "code",
      "metadata": {
        "id": "Dp9t0vLVTB8q",
        "colab_type": "code",
        "outputId": "ff53b9cb-e36b-4e5f-fcf0-9aca9879fcc3",
        "colab": {
          "base_uri": "https://localhost:8080/",
          "height": 203
        }
      },
      "source": [
        "plotter(image, mask)"
      ],
      "execution_count": 0,
      "outputs": [
        {
          "output_type": "display_data",
          "data": {
            "image/png": "[encoded data removed]",
            "text/plain": [
              "<Figure size 432x288 with 2 Axes>"
            ]
          },
          "metadata": {
            "tags": []
          }
        }
      ]
    },
    {
      "cell_type": "code",
      "metadata": {
        "id": "abbPuFUsZ_H5",
        "colab_type": "code",
        "colab": {}
      },
      "source": [
        "# #Manually experimenting with augumentation using pytorch transforms\n",
        "import copy\n",
        "def horizontal_flip(img, msk):\n",
        "  image = copy.deepcopy(img)\n",
        "  mask = copy.deepcopy(msk)\n",
        "  image = transforms.ToPILImage()(transforms.ToTensor()(image).flip(-1))\n",
        "  mask =  transforms.ToPILImage()(transforms.ToTensor()(mask).flip(-1))\n",
        "  return image, mask"
      ],
      "execution_count": 0,
      "outputs": []
    },
    {
      "cell_type": "code",
      "metadata": {
        "id": "0y3G5TSkaCnE",
        "colab_type": "code",
        "outputId": "78db2ec5-0633-42cb-92f4-f2e6120a349c",
        "colab": {
          "base_uri": "https://localhost:8080/",
          "height": 203
        }
      },
      "source": [
        "_img, _mask = horizontal_flip(image,mask)\n",
        "plotter(_img, _mask)"
      ],
      "execution_count": 0,
      "outputs": [
        {
          "output_type": "display_data",
          "data": {
            "image/png": "[encoded data removed]",
            "text/plain": [
              "<Figure size 432x288 with 2 Axes>"
            ]
          },
          "metadata": {
            "tags": []
          }
        }
      ]
    },
    {
      "cell_type": "code",
      "metadata": {
        "id": "pVZbBoGLaMBy",
        "colab_type": "code",
        "colab": {}
      },
      "source": [
        "def vertical_flip(img, msk):\n",
        "  image = copy.deepcopy(img)\n",
        "  mask = copy.deepcopy(msk)\n",
        "  image = transforms.ToPILImage()(transforms.ToTensor()(image).flip(1))\n",
        "  mask =  transforms.ToPILImage()(transforms.ToTensor()(mask).flip(1))\n",
        "  return image, mask"
      ],
      "execution_count": 0,
      "outputs": []
    },
    {
      "cell_type": "code",
      "metadata": {
        "id": "bnaW1Qn7aPJO",
        "colab_type": "code",
        "outputId": "b62f471e-6c54-4f10-e8ae-b2a376d72d54",
        "colab": {
          "base_uri": "https://localhost:8080/",
          "height": 203
        }
      },
      "source": [
        "_img, _mask = vertical_flip(image,mask)\n",
        "plotter(_img, _mask)"
      ],
      "execution_count": 0,
      "outputs": [
        {
          "output_type": "display_data",
          "data": {
            "image/png": "[encoded data removed]",
            "text/plain": [
              "<Figure size 432x288 with 2 Axes>"
            ]
          },
          "metadata": {
            "tags": []
          }
        }
      ]
    },
    {
      "cell_type": "code",
      "metadata": {
        "id": "2Nnqikx1j9Dc",
        "colab_type": "code",
        "outputId": "061e28cf-8526-47ba-dbd6-3f81beb60837",
        "colab": {
          "base_uri": "https://localhost:8080/",
          "height": 425
        }
      },
      "source": [
        "def resize(img, msk, size):\n",
        "  image = copy.deepcopy(img)\n",
        "  mask = copy.deepcopy(msk)\n",
        "  image = transforms.ToPILImage()(transforms.ToTensor()(image)).resize([size,size])\n",
        "  mask = transforms.ToPILImage()(transforms.ToTensor()(mask)).resize([size,size])\n",
        "  return image, mask\n",
        "\n",
        "for i in range(2):\n",
        "  size = np.random.randint(0,1024)\n",
        "  print(size)\n",
        "  _img,_mask = resize(image,mask,size)\n",
        "  plotter(_img,_mask)"
      ],
      "execution_count": 0,
      "outputs": [
        {
          "output_type": "stream",
          "text": [
            "265\n"
          ],
          "name": "stdout"
        },
        {
          "output_type": "display_data",
          "data": {
            "image/png": "[encoded data removed]",
            "text/plain": [
              "<Figure size 432x288 with 2 Axes>"
            ]
          },
          "metadata": {
            "tags": []
          }
        },
        {
          "output_type": "stream",
          "text": [
            "507\n"
          ],
          "name": "stdout"
        },
        {
          "output_type": "display_data",
          "data": {
            "image/png": "[encoded data removed]",
            "text/plain": [
              "<Figure size 432x288 with 2 Axes>"
            ]
          },
          "metadata": {
            "tags": []
          }
        }
      ]
    },
    {
      "cell_type": "code",
      "metadata": {
        "id": "9QHKBAZXaSZM",
        "colab_type": "code",
        "outputId": "ae30a94d-6e44-49a6-95a6-67741987b97d",
        "colab": {
          "base_uri": "https://localhost:8080/",
          "height": 575
        }
      },
      "source": [
        "def rotation(img, msk, degree):\n",
        "  image = copy.deepcopy(img)\n",
        "  mask = copy.deepcopy(msk)\n",
        "  image = transforms.ToPILImage()(transforms.ToTensor()(image)).rotate(degree)\n",
        "  mask = transforms.ToPILImage()(transforms.ToTensor()(mask)).rotate(degree)\n",
        "  return image, mask\n",
        "\n",
        "for i in range(3):\n",
        "  degree = np.random.randint(0,360)\n",
        "  _img, _mask = rotation(image, mask, degree)\n",
        "  plotter(_img, _mask)"
      ],
      "execution_count": 0,
      "outputs": [
        {
          "output_type": "display_data",
          "data": {
            "image/png": "[encoded data removed]",
            "text/plain": [
              "<Figure size 432x288 with 2 Axes>"
            ]
          },
          "metadata": {
            "tags": []
          }
        },
        {
          "output_type": "display_data",
          "data": {
            "image/png": "[encoded data removed]",
            "text/plain": [
              "<Figure size 432x288 with 2 Axes>"
            ]
          },
          "metadata": {
            "tags": []
          }
        },
        {
          "output_type": "display_data",
          "data": {
            "image/png": "[encoded data removed]",
            "text/plain": [
              "<Figure size 432x288 with 2 Axes>"
            ]
          },
          "metadata": {
            "tags": []
          }
        }
      ]
    },
    {
      "cell_type": "code",
      "metadata": {
        "id": "WB_i_aUEnhtc",
        "colab_type": "code",
        "outputId": "dc2cac6e-5581-4a7f-9e27-07c0fce7f0ea",
        "colab": {
          "base_uri": "https://localhost:8080/",
          "height": 197
        }
      },
      "source": [
        "df.head()"
      ],
      "execution_count": 0,
      "outputs": [
        {
          "output_type": "execute_result",
          "data": {
            "application/vnd.google.colaboratory.module+javascript": "\n      import \"https://ssl.gstatic.com/colaboratory/data_table/84ef27dae82052e3/data_table.js\";\n\n      window.createDataTable({\n        data: [[{\n            'v': 0,\n            'f': \"0\",\n        },\n\"/content/midcurve_data/data/input/I_Profile.png\",\n\"/content/midcurve_data/data/input/I_Midcurve.png\",\n\"I\"],\n [{\n            'v': 1,\n            'f': \"1\",\n        },\n\"/content/midcurve_data/data/input/I_Profile_mirrored_0.png\",\n\"/content/midcurve_data/data/input/I_Midcurve_mirrored_0.png\",\n\"I\"],\n [{\n            'v': 2,\n            'f': \"2\",\n        },\n\"/content/midcurve_data/data/input/I_Profile_mirrored_0_rotated_120.png\",\n\"/content/midcurve_data/data/input/I_Midcurve_mirrored_0_rotated_120.png\",\n\"I\"],\n [{\n            'v': 3,\n            'f': \"3\",\n        },\n\"/content/midcurve_data/data/input/I_Profile_mirrored_0_rotated_150.png\",\n\"/content/midcurve_data/data/input/I_Midcurve_mirrored_0_rotated_150.png\",\n\"I\"],\n [{\n            'v': 4,\n            'f': \"4\",\n        },\n\"/content/midcurve_data/data/input/I_Profile_mirrored_0_rotated_180.png\",\n\"/content/midcurve_data/data/input/I_Midcurve_mirrored_0_rotated_180.png\",\n\"I\"]],\n        columns: [[\"number\", \"index\"], [\"string\", \"profile_path\"], [\"string\", \"midcurve_path\"], [\"string\", \"classes\"]],\n        columnOptions: [{\"width\": \"1px\", \"className\": \"index_column\"}],\n        rowsPerPage: 25,\n        helpUrl: \"https://colab.research.google.com/notebooks/data_table.ipynb\",\n        suppressOutputScrolling: true,\n      });\n    ",
            "text/html": [
              "<div>\n",
              "<style scoped>\n",
              "    .dataframe tbody tr th:only-of-type {\n",
              "        vertical-align: middle;\n",
              "    }\n",
              "\n",
              "    .dataframe tbody tr th {\n",
              "        vertical-align: top;\n",
              "    }\n",
              "\n",
              "    .dataframe thead th {\n",
              "        text-align: right;\n",
              "    }\n",
              "</style>\n",
              "<table border=\"1\" class=\"dataframe\">\n",
              "  <thead>\n",
              "    <tr style=\"text-align: right;\">\n",
              "      <th></th>\n",
              "      <th>profile_path</th>\n",
              "      <th>midcurve_path</th>\n",
              "      <th>classes</th>\n",
              "    </tr>\n",
              "  </thead>\n",
              "  <tbody>\n",
              "    <tr>\n",
              "      <th>0</th>\n",
              "      <td>/content/midcurve_data/data/input/I_Profile.png</td>\n",
              "      <td>/content/midcurve_data/data/input/I_Midcurve.png</td>\n",
              "      <td>I</td>\n",
              "    </tr>\n",
              "    <tr>\n",
              "      <th>1</th>\n",
              "      <td>/content/midcurve_data/data/input/I_Profile_mi...</td>\n",
              "      <td>/content/midcurve_data/data/input/I_Midcurve_m...</td>\n",
              "      <td>I</td>\n",
              "    </tr>\n",
              "    <tr>\n",
              "      <th>2</th>\n",
              "      <td>/content/midcurve_data/data/input/I_Profile_mi...</td>\n",
              "      <td>/content/midcurve_data/data/input/I_Midcurve_m...</td>\n",
              "      <td>I</td>\n",
              "    </tr>\n",
              "    <tr>\n",
              "      <th>3</th>\n",
              "      <td>/content/midcurve_data/data/input/I_Profile_mi...</td>\n",
              "      <td>/content/midcurve_data/data/input/I_Midcurve_m...</td>\n",
              "      <td>I</td>\n",
              "    </tr>\n",
              "    <tr>\n",
              "      <th>4</th>\n",
              "      <td>/content/midcurve_data/data/input/I_Profile_mi...</td>\n",
              "      <td>/content/midcurve_data/data/input/I_Midcurve_m...</td>\n",
              "      <td>I</td>\n",
              "    </tr>\n",
              "  </tbody>\n",
              "</table>\n",
              "</div>"
            ],
            "text/plain": [
              "                                        profile_path  ... classes\n",
              "0    /content/midcurve_data/data/input/I_Profile.png  ...       I\n",
              "1  /content/midcurve_data/data/input/I_Profile_mi...  ...       I\n",
              "2  /content/midcurve_data/data/input/I_Profile_mi...  ...       I\n",
              "3  /content/midcurve_data/data/input/I_Profile_mi...  ...       I\n",
              "4  /content/midcurve_data/data/input/I_Profile_mi...  ...       I\n",
              "\n",
              "[5 rows x 3 columns]"
            ]
          },
          "metadata": {
            "tags": []
          },
          "execution_count": 81
        }
      ]
    },
    {
      "cell_type": "code",
      "metadata": {
        "id": "EnemiRFsqmf7",
        "colab_type": "code",
        "colab": {}
      },
      "source": [
        "#filtering original images\n",
        "original = []\n",
        "for index, row in df.iterrows():\n",
        "    #print(row['profile_path'])\n",
        "    #print(row['profile_path'].split('/')[-1].split('_'))\n",
        "    if len(row['profile_path'].split('/')[-1].split('_')) == 2:\n",
        "      original.append((row['profile_path'], row['midcurve_path'], row['classes']))\n"
      ],
      "execution_count": 0,
      "outputs": []
    },
    {
      "cell_type": "code",
      "metadata": {
        "id": "ZyCLGSDC1RwW",
        "colab_type": "code",
        "colab": {}
      },
      "source": [
        "df_original = pd.DataFrame(original, columns = ['profile_path','midcurve_path','classes'])"
      ],
      "execution_count": 0,
      "outputs": []
    },
    {
      "cell_type": "code",
      "metadata": {
        "id": "zff-_0Ns1Yx3",
        "colab_type": "code",
        "outputId": "c4062c44-8ecb-4737-af34-84c60550d42a",
        "colab": {
          "base_uri": "https://localhost:8080/",
          "height": 176
        }
      },
      "source": [
        "df_original"
      ],
      "execution_count": 0,
      "outputs": [
        {
          "output_type": "execute_result",
          "data": {
            "application/vnd.google.colaboratory.module+javascript": "\n      import \"https://ssl.gstatic.com/colaboratory/data_table/84ef27dae82052e3/data_table.js\";\n\n      window.createDataTable({\n        data: [[{\n            'v': 0,\n            'f': \"0\",\n        },\n\"/content/midcurve_data/data/input/I_Profile.png\",\n\"/content/midcurve_data/data/input/I_Midcurve.png\",\n\"I\"],\n [{\n            'v': 1,\n            'f': \"1\",\n        },\n\"/content/midcurve_data/data/input/L_Profile.png\",\n\"/content/midcurve_data/data/input/L_Midcurve.png\",\n\"L\"],\n [{\n            'v': 2,\n            'f': \"2\",\n        },\n\"/content/midcurve_data/data/input/Plus_Profile.png\",\n\"/content/midcurve_data/data/input/Plus_Midcurve.png\",\n\"Plus\"],\n [{\n            'v': 3,\n            'f': \"3\",\n        },\n\"/content/midcurve_data/data/input/T_Profile.png\",\n\"/content/midcurve_data/data/input/T_Midcurve.png\",\n\"T\"]],\n        columns: [[\"number\", \"index\"], [\"string\", \"profile_path\"], [\"string\", \"midcurve_path\"], [\"string\", \"classes\"]],\n        columnOptions: [{\"width\": \"1px\", \"className\": \"index_column\"}],\n        rowsPerPage: 25,\n        helpUrl: \"https://colab.research.google.com/notebooks/data_table.ipynb\",\n        suppressOutputScrolling: true,\n      });\n    ",
            "text/html": [
              "<div>\n",
              "<style scoped>\n",
              "    .dataframe tbody tr th:only-of-type {\n",
              "        vertical-align: middle;\n",
              "    }\n",
              "\n",
              "    .dataframe tbody tr th {\n",
              "        vertical-align: top;\n",
              "    }\n",
              "\n",
              "    .dataframe thead th {\n",
              "        text-align: right;\n",
              "    }\n",
              "</style>\n",
              "<table border=\"1\" class=\"dataframe\">\n",
              "  <thead>\n",
              "    <tr style=\"text-align: right;\">\n",
              "      <th></th>\n",
              "      <th>profile_path</th>\n",
              "      <th>midcurve_path</th>\n",
              "      <th>classes</th>\n",
              "    </tr>\n",
              "  </thead>\n",
              "  <tbody>\n",
              "    <tr>\n",
              "      <th>0</th>\n",
              "      <td>/content/midcurve_data/data/input/I_Profile.png</td>\n",
              "      <td>/content/midcurve_data/data/input/I_Midcurve.png</td>\n",
              "      <td>I</td>\n",
              "    </tr>\n",
              "    <tr>\n",
              "      <th>1</th>\n",
              "      <td>/content/midcurve_data/data/input/L_Profile.png</td>\n",
              "      <td>/content/midcurve_data/data/input/L_Midcurve.png</td>\n",
              "      <td>L</td>\n",
              "    </tr>\n",
              "    <tr>\n",
              "      <th>2</th>\n",
              "      <td>/content/midcurve_data/data/input/Plus_Profile...</td>\n",
              "      <td>/content/midcurve_data/data/input/Plus_Midcurv...</td>\n",
              "      <td>Plus</td>\n",
              "    </tr>\n",
              "    <tr>\n",
              "      <th>3</th>\n",
              "      <td>/content/midcurve_data/data/input/T_Profile.png</td>\n",
              "      <td>/content/midcurve_data/data/input/T_Midcurve.png</td>\n",
              "      <td>T</td>\n",
              "    </tr>\n",
              "  </tbody>\n",
              "</table>\n",
              "</div>"
            ],
            "text/plain": [
              "                                        profile_path  ... classes\n",
              "0    /content/midcurve_data/data/input/I_Profile.png  ...       I\n",
              "1    /content/midcurve_data/data/input/L_Profile.png  ...       L\n",
              "2  /content/midcurve_data/data/input/Plus_Profile...  ...    Plus\n",
              "3    /content/midcurve_data/data/input/T_Profile.png  ...       T\n",
              "\n",
              "[4 rows x 3 columns]"
            ]
          },
          "metadata": {
            "tags": []
          },
          "execution_count": 101
        }
      ]
    },
    {
      "cell_type": "code",
      "metadata": {
        "id": "SRRPYgCp181N",
        "colab_type": "code",
        "outputId": "31c79148-b84a-4290-d03b-74decb77f5e7",
        "colab": {
          "base_uri": "https://localhost:8080/",
          "height": 85
        }
      },
      "source": [
        "fnames_original = {key: value for key,value in enumerate(df_original['profile_path'].values)}\n",
        "fnames_original"
      ],
      "execution_count": 0,
      "outputs": [
        {
          "output_type": "execute_result",
          "data": {
            "text/plain": [
              "{0: '/content/midcurve_data/data/input/I_Profile.png',\n",
              " 1: '/content/midcurve_data/data/input/L_Profile.png',\n",
              " 2: '/content/midcurve_data/data/input/Plus_Profile.png',\n",
              " 3: '/content/midcurve_data/data/input/T_Profile.png'}"
            ]
          },
          "metadata": {
            "tags": []
          },
          "execution_count": 103
        }
      ]
    },
    {
      "cell_type": "code",
      "metadata": {
        "id": "TyeJ_sLg1hbe",
        "colab_type": "code",
        "colab": {}
      },
      "source": [
        "dataset_original = midcurvedataset(df_original,fnames,aug_all)"
      ],
      "execution_count": 0,
      "outputs": []
    },
    {
      "cell_type": "code",
      "metadata": {
        "id": "1K3GGF4M2O2C",
        "colab_type": "code",
        "outputId": "244d5416-3393-4669-a901-f4f32763128a",
        "colab": {
          "base_uri": "https://localhost:8080/",
          "height": 203
        }
      },
      "source": [
        "#iterate over it to see different augumentations\n",
        "image, mask = dataset[np.random.randint(0,len(df_original['profile_path'].values))]\n",
        "plotter(image, mask)"
      ],
      "execution_count": 0,
      "outputs": [
        {
          "output_type": "display_data",
          "data": {
            "image/png": "[encoded data removed]",
            "text/plain": [
              "<Figure size 432x288 with 2 Axes>"
            ]
          },
          "metadata": {
            "tags": []
          }
        }
      ]
    },
    {
      "cell_type": "code",
      "metadata": {
        "id": "3XZ8mEi_2e09",
        "colab_type": "code",
        "colab": {}
      },
      "source": [
        "dataloader_original = DataLoader(\n",
        "      dataset_original,\n",
        "      batch_size  = 8,\n",
        "      num_workers = 4,\n",
        "      pin_memory = True,\n",
        "      shuffle = True\n",
        "  )\n"
      ],
      "execution_count": 0,
      "outputs": []
    },
    {
      "cell_type": "code",
      "metadata": {
        "id": "de8r8QZMHZBm",
        "colab_type": "code",
        "colab": {}
      },
      "source": [
        "dataloader_valid = DataLoader(\n",
        "      dataset_original,\n",
        "      batch_size  = 8,\n",
        "      num_workers = 4,\n",
        "      pin_memory = True,\n",
        "      shuffle = True\n",
        "  )\n"
      ],
      "execution_count": 0,
      "outputs": []
    },
    {
      "cell_type": "code",
      "metadata": {
        "id": "j4Uzo-jkFnBL",
        "colab_type": "code",
        "colab": {}
      },
      "source": [
        "data = DataBunch(train_dl = dataloader_original, valid_dl = dataloader_valid_dummy)"
      ],
      "execution_count": 0,
      "outputs": []
    },
    {
      "cell_type": "code",
      "metadata": {
        "id": "oxozxWC95FMr",
        "colab_type": "code",
        "colab": {}
      },
      "source": [
        "batch = next(iter(dataloader))\n",
        "images, masks = batch"
      ],
      "execution_count": 0,
      "outputs": []
    },
    {
      "cell_type": "code",
      "metadata": {
        "id": "u6UJ86rv5J5m",
        "colab_type": "code",
        "outputId": "744e5aeb-4fe5-4437-e326-451095c13f68",
        "colab": {
          "base_uri": "https://localhost:8080/",
          "height": 34
        }
      },
      "source": [
        "images.shape"
      ],
      "execution_count": 0,
      "outputs": [
        {
          "output_type": "execute_result",
          "data": {
            "text/plain": [
              "torch.Size([4, 100, 100])"
            ]
          },
          "metadata": {
            "tags": []
          },
          "execution_count": 177
        }
      ]
    },
    {
      "cell_type": "code",
      "metadata": {
        "id": "nQrZX9CP5N76",
        "colab_type": "code",
        "outputId": "313a9a80-655a-4bf4-bc55-fd3d38103a34",
        "colab": {
          "base_uri": "https://localhost:8080/",
          "height": 269
        }
      },
      "source": [
        "# make grid takes tensor as arg\n",
        "# tensor : (batchsize, channels, height, width)\n",
        "import torchvision\n",
        "fig, ax = plt.subplots(2,1) \n",
        "grid = torchvision.utils.make_grid(images)\n",
        "grid1 = torchvision.utils.make_grid(masks)\n",
        "plt.axis('off')\n",
        "ax[0].imshow(grid.numpy().transpose((1, 2, 0)))\n",
        "ax[1].imshow(grid1.numpy().transpose((1, 2, 0)))\n",
        "\n",
        "#plt.title(labels.numpy());"
      ],
      "execution_count": 0,
      "outputs": [
        {
          "output_type": "execute_result",
          "data": {
            "text/plain": [
              "<matplotlib.image.AxesImage at 0x7fb19b3018d0>"
            ]
          },
          "metadata": {
            "tags": []
          },
          "execution_count": 178
        },
        {
          "output_type": "display_data",
          "data": {
            "image/png": "[encoded data removed]",
            "text/plain": [
              "<Figure size 432x288 with 2 Axes>"
            ]
          },
          "metadata": {
            "tags": []
          }
        }
      ]
    },
    {
      "cell_type": "markdown",
      "metadata": {
        "id": "9uSE8rdn64no",
        "colab_type": "text"
      },
      "source": [
        "# Model"
      ]
    },
    {
      "cell_type": "code",
      "metadata": {
        "id": "9MYDNcrJACPy",
        "colab_type": "code",
        "colab": {}
      },
      "source": [
        "import torch \n",
        "import torch.nn as nn\n",
        "import torch.nn.functional as F"
      ],
      "execution_count": 0,
      "outputs": []
    },
    {
      "cell_type": "code",
      "metadata": {
        "id": "WYF8Awos6Wu7",
        "colab_type": "code",
        "colab": {}
      },
      "source": [
        "def conv_2d(ni, nf, stride=1, ks=3):\n",
        "    return nn.Conv2d(in_channels=ni, out_channels=nf, \n",
        "                     kernel_size=ks, stride=stride, \n",
        "                     padding=ks//2, bias=False)\n",
        "\n",
        "def bn_relu_conv(ni, nf):\n",
        "    return nn.Sequential(nn.BatchNorm2d(ni), \n",
        "                         nn.ReLU(inplace=True), \n",
        "                         conv_2d(ni, nf))\n",
        "\n",
        "class ResidualBlock(nn.Module):\n",
        "    def __init__(self, ni, nf, stride=1):\n",
        "        super().__init__()\n",
        "        self.bn = nn.BatchNorm2d(ni)\n",
        "        self.conv1 = conv_2d(ni, nf, stride)\n",
        "        self.conv2 = bn_relu_conv(nf, nf)\n",
        "        self.shortcut = lambda x: x\n",
        "        if ni != nf:\n",
        "            self.shortcut = conv_2d(ni, nf, stride, 1)\n",
        "    \n",
        "    def forward(self, x):\n",
        "        x = F.relu(self.bn(x), inplace=True)\n",
        "        r = self.shortcut(x)\n",
        "        x = self.conv1(x)\n",
        "        x = self.conv2(x) * 0.2\n",
        "        return x.add_(r)"
      ],
      "execution_count": 0,
      "outputs": []
    },
    {
      "cell_type": "code",
      "metadata": {
        "id": "sKoy1DfaAEdl",
        "colab_type": "code",
        "colab": {}
      },
      "source": [
        "def upsample(a):\n",
        "\treturn(F.interpolate(a,scale_factor=2,mode='nearest'))\n",
        " \n",
        "def concat(cur_ip, pr_ip):\n",
        "\treturn(torch.cat((cur_ip, pr_ip), dim=1))"
      ],
      "execution_count": 0,
      "outputs": []
    },
    {
      "cell_type": "code",
      "metadata": {
        "id": "f3aYLNZN71EF",
        "colab_type": "code",
        "colab": {}
      },
      "source": [
        "class resunet(nn.Module):\n",
        "    def __init__(self):\n",
        "        super(resunet, self).__init__()\n",
        "        \n",
        "        self.f= [32, 64,128]\n",
        "        self.in_channel = 1\n",
        "        #Input = 100x100x1\n",
        "        self.base_layer =  nn.Conv2d(in_channels=self.in_channel , out_channels= self.f[0], kernel_size = 3, stride=1, padding=1, bias=False)\n",
        "        self.base_bn = nn.BatchNorm2d(32)\n",
        "        self.base_relu = nn.ReLU(inplace = True) #100x100x32\n",
        "\n",
        "        self.e0 = ResidualBlock(self.f[0],self.f[0],stride=1)\n",
        "        self.e1 = ResidualBlock(self.f[0],self.f[0],stride=1) #100x100x32\n",
        "\n",
        "        self.e2 = ResidualBlock(self.f[0],self.f[1],stride=2) #50x50x64\n",
        "        self.e3 = ResidualBlock(self.f[1],self.f[1],stride=1) #50x50x64\n",
        "\n",
        "        self.e4 = ResidualBlock(self.f[1],self.f[2],stride=2) #25x25x128\n",
        "\n",
        "        #bridge\n",
        "        self.b =  ResidualBlock(self.f[2],self.f[2],stride=2) #25x25x128\n",
        "\n",
        "        #Upsample\n",
        "        self.d0 = ResidualBlock(192,self.f[1])\n",
        "        self.d1 = ResidualBlock(96,self.f[0])\n",
        "        self.d2 = ResidualBlock(self.f[0],self.in_channel)\n",
        "        self.o = nn.Conv2d(in_channels=self.in_channel, out_channels=self.in_channel, kernel_size=1, stride=1, bias=False)\n",
        "\n",
        "        \n",
        "    def forward(self, input):\n",
        "        o = self.base_layer(input)\n",
        "        o = self.base_bn(o)\n",
        "        o = self.base_relu(o)\n",
        "      \n",
        "        o = self.e0(o)\n",
        "        o = self.e1(o)\n",
        "        s1 = o\n",
        "\n",
        "        o = self.e2(o)\n",
        "        o = self.e3(o)\n",
        "        s2 = o\n",
        "        \n",
        "        o = self.e4(o)\n",
        "        o = self.b(o)\n",
        "        \n",
        "        o = upsample(o)   #25x25x128\n",
        "        o = concatx(o,s2) #50x50x192\n",
        "        o = self.d0(o)    #50x50x64\n",
        "        \n",
        "        o = upsamplex(o)  #100x100x64\n",
        "        o = concatx(o,s1) #100x100x96\n",
        "        o = self.d1(o)    #100x100x32\n",
        "\n",
        "        o = self.d2(o)    #100x100x1\n",
        "        o = self.o(o)\n",
        "        return(o)"
      ],
      "execution_count": 0,
      "outputs": []
    },
    {
      "cell_type": "code",
      "metadata": {
        "id": "ySIbfI-WBiUG",
        "colab_type": "code",
        "outputId": "c45ad0fd-ca20-4f7c-aa1f-040ee3b8d7bf",
        "colab": {
          "base_uri": "https://localhost:8080/",
          "height": 358
        }
      },
      "source": [
        "model = resunet()\n",
        "#model.cuda()\n",
        "learn = Learner(data = data, model = model, metrics= dice)"
      ],
      "execution_count": 0,
      "outputs": [
        {
          "output_type": "error",
          "ename": "AttributeError",
          "evalue": "ignored",
          "traceback": [
            "\u001b[0;31m---------------------------------------------------------------------------\u001b[0m",
            "\u001b[0;31mAttributeError\u001b[0m                            Traceback (most recent call last)",
            "\u001b[0;32m<ipython-input-202-8bf3494e4de2>\u001b[0m in \u001b[0;36m<module>\u001b[0;34m()\u001b[0m\n\u001b[0;32m----> 1\u001b[0;31m \u001b[0mdata\u001b[0m\u001b[0;34m.\u001b[0m\u001b[0mnormalize\u001b[0m\u001b[0;34m(\u001b[0m\u001b[0mimagenet_stats\u001b[0m\u001b[0;34m)\u001b[0m\u001b[0;34m\u001b[0m\u001b[0;34m\u001b[0m\u001b[0m\n\u001b[0m\u001b[1;32m      2\u001b[0m \u001b[0mmodel\u001b[0m \u001b[0;34m=\u001b[0m \u001b[0mresunet\u001b[0m\u001b[0;34m(\u001b[0m\u001b[0;34m)\u001b[0m\u001b[0;34m\u001b[0m\u001b[0;34m\u001b[0m\u001b[0m\n\u001b[1;32m      3\u001b[0m \u001b[0;31m#model.cuda()\u001b[0m\u001b[0;34m\u001b[0m\u001b[0;34m\u001b[0m\u001b[0;34m\u001b[0m\u001b[0m\n\u001b[1;32m      4\u001b[0m \u001b[0mlearn\u001b[0m \u001b[0;34m=\u001b[0m \u001b[0mLearner\u001b[0m\u001b[0;34m(\u001b[0m\u001b[0mdata\u001b[0m \u001b[0;34m=\u001b[0m \u001b[0mdata\u001b[0m\u001b[0;34m,\u001b[0m \u001b[0mmodel\u001b[0m \u001b[0;34m=\u001b[0m \u001b[0mmodel\u001b[0m\u001b[0;34m,\u001b[0m \u001b[0mmetrics\u001b[0m\u001b[0;34m=\u001b[0m \u001b[0mdice\u001b[0m\u001b[0;34m)\u001b[0m\u001b[0;34m\u001b[0m\u001b[0;34m\u001b[0m\u001b[0m\n",
            "\u001b[0;32m/usr/local/lib/python3.6/dist-packages/fastai/basic_data.py\u001b[0m in \u001b[0;36m__getattr__\u001b[0;34m(self, k)\u001b[0m\n\u001b[1;32m    120\u001b[0m         \u001b[0;32mreturn\u001b[0m \u001b[0mcls\u001b[0m\u001b[0;34m(\u001b[0m\u001b[0;34m*\u001b[0m\u001b[0mdls\u001b[0m\u001b[0;34m,\u001b[0m \u001b[0mpath\u001b[0m\u001b[0;34m=\u001b[0m\u001b[0mpath\u001b[0m\u001b[0;34m,\u001b[0m \u001b[0mdevice\u001b[0m\u001b[0;34m=\u001b[0m\u001b[0mdevice\u001b[0m\u001b[0;34m,\u001b[0m \u001b[0mdl_tfms\u001b[0m\u001b[0;34m=\u001b[0m\u001b[0mdl_tfms\u001b[0m\u001b[0;34m,\u001b[0m \u001b[0mcollate_fn\u001b[0m\u001b[0;34m=\u001b[0m\u001b[0mcollate_fn\u001b[0m\u001b[0;34m,\u001b[0m \u001b[0mno_check\u001b[0m\u001b[0;34m=\u001b[0m\u001b[0mno_check\u001b[0m\u001b[0;34m)\u001b[0m\u001b[0;34m\u001b[0m\u001b[0;34m\u001b[0m\u001b[0m\n\u001b[1;32m    121\u001b[0m \u001b[0;34m\u001b[0m\u001b[0m\n\u001b[0;32m--> 122\u001b[0;31m     \u001b[0;32mdef\u001b[0m \u001b[0m__getattr__\u001b[0m\u001b[0;34m(\u001b[0m\u001b[0mself\u001b[0m\u001b[0;34m,\u001b[0m\u001b[0mk\u001b[0m\u001b[0;34m:\u001b[0m\u001b[0mint\u001b[0m\u001b[0;34m)\u001b[0m\u001b[0;34m->\u001b[0m\u001b[0mAny\u001b[0m\u001b[0;34m:\u001b[0m \u001b[0;32mreturn\u001b[0m \u001b[0mgetattr\u001b[0m\u001b[0;34m(\u001b[0m\u001b[0mself\u001b[0m\u001b[0;34m.\u001b[0m\u001b[0mtrain_dl\u001b[0m\u001b[0;34m,\u001b[0m \u001b[0mk\u001b[0m\u001b[0;34m)\u001b[0m\u001b[0;34m\u001b[0m\u001b[0;34m\u001b[0m\u001b[0m\n\u001b[0m\u001b[1;32m    123\u001b[0m     \u001b[0;32mdef\u001b[0m \u001b[0m__setstate__\u001b[0m\u001b[0;34m(\u001b[0m\u001b[0mself\u001b[0m\u001b[0;34m,\u001b[0m\u001b[0mdata\u001b[0m\u001b[0;34m:\u001b[0m\u001b[0mAny\u001b[0m\u001b[0;34m)\u001b[0m\u001b[0;34m:\u001b[0m \u001b[0mself\u001b[0m\u001b[0;34m.\u001b[0m\u001b[0m__dict__\u001b[0m\u001b[0;34m.\u001b[0m\u001b[0mupdate\u001b[0m\u001b[0;34m(\u001b[0m\u001b[0mdata\u001b[0m\u001b[0;34m)\u001b[0m\u001b[0;34m\u001b[0m\u001b[0;34m\u001b[0m\u001b[0m\n\u001b[1;32m    124\u001b[0m \u001b[0;34m\u001b[0m\u001b[0m\n",
            "\u001b[0;32m/usr/local/lib/python3.6/dist-packages/fastai/basic_data.py\u001b[0m in \u001b[0;36m__getattr__\u001b[0;34m(self, k)\u001b[0m\n\u001b[1;32m     36\u001b[0m \u001b[0;34m\u001b[0m\u001b[0m\n\u001b[1;32m     37\u001b[0m     \u001b[0;32mdef\u001b[0m \u001b[0m__len__\u001b[0m\u001b[0;34m(\u001b[0m\u001b[0mself\u001b[0m\u001b[0;34m)\u001b[0m\u001b[0;34m->\u001b[0m\u001b[0mint\u001b[0m\u001b[0;34m:\u001b[0m \u001b[0;32mreturn\u001b[0m \u001b[0mlen\u001b[0m\u001b[0;34m(\u001b[0m\u001b[0mself\u001b[0m\u001b[0;34m.\u001b[0m\u001b[0mdl\u001b[0m\u001b[0;34m)\u001b[0m\u001b[0;34m\u001b[0m\u001b[0;34m\u001b[0m\u001b[0m\n\u001b[0;32m---> 38\u001b[0;31m     \u001b[0;32mdef\u001b[0m \u001b[0m__getattr__\u001b[0m\u001b[0;34m(\u001b[0m\u001b[0mself\u001b[0m\u001b[0;34m,\u001b[0m\u001b[0mk\u001b[0m\u001b[0;34m:\u001b[0m\u001b[0mstr\u001b[0m\u001b[0;34m)\u001b[0m\u001b[0;34m->\u001b[0m\u001b[0mAny\u001b[0m\u001b[0;34m:\u001b[0m \u001b[0;32mreturn\u001b[0m \u001b[0mgetattr\u001b[0m\u001b[0;34m(\u001b[0m\u001b[0mself\u001b[0m\u001b[0;34m.\u001b[0m\u001b[0mdl\u001b[0m\u001b[0;34m,\u001b[0m \u001b[0mk\u001b[0m\u001b[0;34m)\u001b[0m\u001b[0;34m\u001b[0m\u001b[0;34m\u001b[0m\u001b[0m\n\u001b[0m\u001b[1;32m     39\u001b[0m     \u001b[0;32mdef\u001b[0m \u001b[0m__setstate__\u001b[0m\u001b[0;34m(\u001b[0m\u001b[0mself\u001b[0m\u001b[0;34m,\u001b[0m\u001b[0mdata\u001b[0m\u001b[0;34m:\u001b[0m\u001b[0mAny\u001b[0m\u001b[0;34m)\u001b[0m\u001b[0;34m:\u001b[0m \u001b[0mself\u001b[0m\u001b[0;34m.\u001b[0m\u001b[0m__dict__\u001b[0m\u001b[0;34m.\u001b[0m\u001b[0mupdate\u001b[0m\u001b[0;34m(\u001b[0m\u001b[0mdata\u001b[0m\u001b[0;34m)\u001b[0m\u001b[0;34m\u001b[0m\u001b[0;34m\u001b[0m\u001b[0m\n\u001b[1;32m     40\u001b[0m \u001b[0;34m\u001b[0m\u001b[0m\n",
            "\u001b[0;32m/usr/local/lib/python3.6/dist-packages/fastai/basic_data.py\u001b[0m in \u001b[0;36mDataLoader___getattr__\u001b[0;34m(dl, k)\u001b[0m\n\u001b[1;32m     18\u001b[0m \u001b[0mtorch\u001b[0m\u001b[0;34m.\u001b[0m\u001b[0mutils\u001b[0m\u001b[0;34m.\u001b[0m\u001b[0mdata\u001b[0m\u001b[0;34m.\u001b[0m\u001b[0mDataLoader\u001b[0m\u001b[0;34m.\u001b[0m\u001b[0m__init__\u001b[0m \u001b[0;34m=\u001b[0m \u001b[0mintercept_args\u001b[0m\u001b[0;34m\u001b[0m\u001b[0;34m\u001b[0m\u001b[0m\n\u001b[1;32m     19\u001b[0m \u001b[0;34m\u001b[0m\u001b[0m\n\u001b[0;32m---> 20\u001b[0;31m \u001b[0;32mdef\u001b[0m \u001b[0mDataLoader___getattr__\u001b[0m\u001b[0;34m(\u001b[0m\u001b[0mdl\u001b[0m\u001b[0;34m,\u001b[0m \u001b[0mk\u001b[0m\u001b[0;34m:\u001b[0m\u001b[0mstr\u001b[0m\u001b[0;34m)\u001b[0m\u001b[0;34m->\u001b[0m\u001b[0mAny\u001b[0m\u001b[0;34m:\u001b[0m \u001b[0;32mreturn\u001b[0m \u001b[0mgetattr\u001b[0m\u001b[0;34m(\u001b[0m\u001b[0mdl\u001b[0m\u001b[0;34m.\u001b[0m\u001b[0mdataset\u001b[0m\u001b[0;34m,\u001b[0m \u001b[0mk\u001b[0m\u001b[0;34m)\u001b[0m\u001b[0;34m\u001b[0m\u001b[0;34m\u001b[0m\u001b[0m\n\u001b[0m\u001b[1;32m     21\u001b[0m \u001b[0mDataLoader\u001b[0m\u001b[0;34m.\u001b[0m\u001b[0m__getattr__\u001b[0m \u001b[0;34m=\u001b[0m \u001b[0mDataLoader___getattr__\u001b[0m\u001b[0;34m\u001b[0m\u001b[0;34m\u001b[0m\u001b[0m\n\u001b[1;32m     22\u001b[0m \u001b[0;34m\u001b[0m\u001b[0m\n",
            "\u001b[0;31mAttributeError\u001b[0m: 'midcurvedataset' object has no attribute 'normalize'"
          ]
        }
      ]
    },
    {
      "cell_type": "code",
      "metadata": {
        "id": "VWX-r4EFDXvk",
        "colab_type": "code",
        "colab": {}
      },
      "source": [
        ""
      ],
      "execution_count": 0,
      "outputs": []
    }
  ]
}